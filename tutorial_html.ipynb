{
 "cells": [
  {
   "cell_type": "markdown",
   "metadata": {},
   "source": [
    "# Introducción a HTML para Principiantes\n",
    "\n",
    "Este documento sirve como una introducción a los elementos básicos de HTML, que es fundamental para entender cómo estructurar una página web y cómo extraer información de ella usando web scraping.\n",
    "\n",
    "HTML (Hypertext Markup Language) es el lenguaje estándar de marcado utilizado para crear y diseñar páginas web. Consiste en una serie de elementos, que son representados por etiquetas, utilizadas para estructurar y presentar contenido en la web.\n",
    "\n"
   ]
  },
  {
   "cell_type": "markdown",
   "metadata": {},
   "source": [
    "Puedes ver un tutorial rápido de HTML si quieres: https://www.youtube.com/watch?v=mNbnV3aN3KA "
   ]
  },
  {
   "cell_type": "markdown",
   "metadata": {},
   "source": [
    "## Estructura Básica de una Página HTML\n",
    "\n",
    "- `<!DOCTYPE html>`: Declara el tipo de documento y la versión de HTML (HTML5 en este caso).\n",
    "- `<html>`: Elemento raíz de un documento HTML.\n",
    "- `<head>`: Contiene metadatos sobre el documento.\n",
    "- `<body>`: Contiene el contenido visible de la página web.\n"
   ]
  },
  {
   "cell_type": "markdown",
   "metadata": {},
   "source": [
    "## Etiquetas Comunes y Sus Funciones\n",
    "\n",
    "- `<title>`: Define el título de la página, que aparece en la pestaña del navegador.\n",
    "- `<h1>` a `<h6>`: Encabezados de diferentes niveles. `<h1>` es el más importante y `<h6>` el menos importante.\n",
    "- `<p>`: Define un párrafo de texto.\n",
    "- `<div>`: Un contenedor genérico para agrupar otros elementos.\n",
    "- `<span>`: Un contenedor en línea para agrupar elementos en un texto.\n",
    "- `<ul>`, `<ol>`: Define una lista desordenada o ordenada.\n",
    "- `<li>`: Define un ítem de una lista.\n",
    "- `<a>`: Define un hipervínculo.\n"
   ]
  },
  {
   "cell_type": "markdown",
   "metadata": {},
   "source": [
    "## Contenedores HTML: `<div>` y `<span>`\n",
    "\n",
    "- `<div>`: Representa un contenedor o sección genérica en un documento HTML. Se utiliza principalmente para agrupar elementos con fines de estilos (usando CSS) o para manipular secciones específicas de la página con JavaScript. El `<div>` es un contenedor de nivel de bloque, lo que significa que crea un nuevo bloque o línea en el documento.\n",
    "  \n",
    "- `<span>`: Similar al `<div>`, pero es un contenedor en línea. Se utiliza para agrupar contenido dentro de una línea o dentro de otros elementos, sin causar un salto de línea. Ideal para aplicar estilos o efectos a partes específicas del texto.\n"
   ]
  },
  {
   "cell_type": "markdown",
   "metadata": {},
   "source": [
    "## Ejemplo 1 de Uso en el Contexto de Bleach Wiki\n",
    "\n",
    "Aquí hay un fragmento de HTML que podría representar una sección de la página de Bleach Wiki:\n"
   ]
  },
  {
   "cell_type": "markdown",
   "metadata": {},
   "source": [
    "<h2><span id=\"Shinigami\">Shinigami</span></h2>\n",
    "<p>Los Shinigami son almas con poderes sobrenaturales y responsables de mantener el flujo de las almas entre el mundo humano y la Sociedad de Almas.</p>\n"
   ]
  },
  {
   "cell_type": "code",
   "execution_count": null,
   "metadata": {
    "vscode": {
     "languageId": "html"
    }
   },
   "outputs": [],
   "source": [
    "<h2><span id=\"Shinigami\">Shinigami</span></h2>\n",
    "<p>Los Shinigami son almas con poderes sobrenaturales y responsables de mantener el flujo de las almas entre el mundo humano y la Sociedad de Almas.</p>"
   ]
  },
  {
   "cell_type": "markdown",
   "metadata": {},
   "source": [
    "En el ejemplo anterior:\n",
    "\n",
    "- `<h2>` define un encabezado de nivel 2. Los encabezados (`<h1>` a `<h6>`) son utilizados para estructurar y organizar el contenido de la página en secciones jerárquicas.\n",
    "- `<span id=\"Shinigami\">` es un contenedor en línea que agrupa la palabra \"Shinigami\". El atributo `id` asigna un identificador único a este elemento, permitiendo que sea referenciado específicamente por CSS o JavaScript.\n",
    "- `<p>` define un párrafo, utilizado para agrupar contenido textual en bloques.\n",
    "\n",
    "Estas etiquetas son fundamentales para estructurar contenido en páginas web y permiten la organización lógica y estilística de la información.\n"
   ]
  },
  {
   "cell_type": "markdown",
   "metadata": {},
   "source": [
    "## Ejemplo 2: Estructura de Página de Bleach Wiki\n",
    "\n",
    "Este ejemplo muestra cómo podría estar estructurada una página típica en la Wiki de Bleach, incluyendo diferentes secciones y tipos de contenido.\n"
   ]
  },
  {
   "cell_type": "markdown",
   "metadata": {},
   "source": [
    "En el código HTML a continuación, se presentan varias secciones que se encuentran en la página de Bleach Wiki. Cada sección está marcada con un `<h2>` y contiene información relevante sobre diferentes razas y personajes del universo de Bleach.\n"
   ]
  },
  {
   "cell_type": "code",
   "execution_count": null,
   "metadata": {
    "vscode": {
     "languageId": "html"
    }
   },
   "outputs": [],
   "source": [
    "<!DOCTYPE html>\n",
    "<html lang=\"es\">\n",
    "<head>\n",
    "    <meta charset=\"UTF-8\">\n",
    "    <title>Bleach Wiki - Razas</title>\n",
    "</head>\n",
    "<body>\n",
    "\n",
    "<h1>Bleach Wiki</h1>\n",
    "<h2>Razas</h2>\n",
    "<div class=\"mw-parser-output\">\n",
    "    <h2><span id=\"Shinigami\">Shinigami</span></h2>\n",
    "    <p>Los Shinigami son almas con poderes sobrenaturales y responsables de mantener el flujo de las almas entre el mundo humano y la Sociedad de Almas.</p>\n",
    "\n",
    "    <h2><span id=\"Hollow\">Hollow</span></h2>\n",
    "    <p>Los Hollows son almas corruptas con poderes destructivos que residen en Hueco Mundo.</p>\n",
    "\n",
    "    <h2><span id=\"Quincy\">Quincy</span></h2>\n",
    "    <p>Los Quincy son humanos con habilidades especiales para detectar y combatir Hollows.</p>\n",
    "</div>\n",
    "\n",
    "<h2>Personajes</h2>\n",
    "<div class=\"personajes\">\n",
    "    <ul>\n",
    "        <li><a href=\"https://bleach.fandom.com/es/wiki/Ichigo_Kurosaki\">Ichigo Kurosaki</a></li>\n",
    "        <li><a href=\"https://bleach.fandom.com/es/wiki/Rukia_Kuchiki\">Rukia Kuchiki</a></li>\n",
    "        <li><a href=\"https://bleach.fandom.com/es/wiki/Uryu_Ishida\">Uryū Ishida</a></li>\n",
    "    </ul>\n",
    "</div>\n",
    "\n",
    "</body>\n",
    "</html>\n"
   ]
  },
  {
   "cell_type": "markdown",
   "metadata": {},
   "source": [
    "### Descripción del Código\n",
    "\n",
    "- `<!DOCTYPE html>` indica que este documento es un documento HTML5.\n",
    "- La etiqueta `<html lang=\"es\">` especifica que el idioma principal de este documento es el español.\n",
    "- Dentro de `<head>`, el `<meta charset=\"UTF-8\">` asegura que el documento pueda usar cualquier carácter del estándar Unicode, lo que es esencial para los idiomas internacionales.\n",
    "- `<title>` define el título que se muestra en la pestaña del navegador.\n",
    "- `<body>` contiene el contenido de la página que los usuarios verán en el navegador.\n",
    "- Los elementos `<h1>` y `<h2>` se utilizan para definir encabezados, estructurando semánticamente el contenido.\n",
    "- `<div class=\"mw-parser-output\">` y `<div class=\"personajes\">` son contenedores que agrupan elementos relacionados, con clases CSS que podrían utilizarse para aplicar estilos específicos.\n",
    "- Los `<span>` con `id` se utilizan para crear anclas que pueden ser referenciadas directamente en la URL.\n",
    "- `<ul>` y `<li>` definen una lista de personajes, donde cada `<li>` contiene un enlace a una página específica de cada personaje en la Wiki de Bleach.\n",
    "\n"
   ]
  },
  {
   "cell_type": "markdown",
   "metadata": {},
   "source": [
    "\n",
    "- `class`: Es un atributo utilizado en HTML para especificar una clase de estilo para un elemento. En CSS (Cascading Style Sheets), las clases se utilizan para aplicar estilos específicos a todos los elementos que comparten la misma clase.\n",
    "  \n",
    "- `\"mw-parser-output\"`: Es el nombre de la clase utilizado aquí. Este es un atributo de clase comúnmente encontrado en las páginas generadas por MediaWiki, el software que potencia la mayoría de las wikis, incluyendo la Wiki de Bleach. En el contexto de MediaWiki, `mw-parser-output` es una clase estándar aplicada al contenido que ha sido procesado por el parser de MediaWiki. Esto incluye todo el contenido del artículo que se muestra a los usuarios.\n",
    "\n",
    "#### Propósito de `mw-parser-output`\n",
    "\n",
    "- **Estilización**: Permite a los desarrolladores de MediaWiki y a los administradores del sitio aplicar estilos CSS específicos al contenido del artículo. Por ejemplo, pueden querer cambiar el tamaño de fuente, color, margen, o cualquier otro estilo visual para mejorar la legibilidad y la presentación del contenido.\n",
    "\n",
    "- **Funcionalidad JavaScript**: Facilita la vinculación de comportamientos JavaScript a todo el bloque de contenido. Esto puede incluir la interactividad como desplegables, pestañas, modales, etc.\n",
    "\n",
    "- **Segmentación del Contenido**: Sirve como un contenedor claro para el contenido principal de la página, distinguiéndolo de otros elementos como barras laterales, encabezados o pies de página. Esto es útil no solo para el diseño y scripts, sino también para herramientas de scraping que pueden extraer eficientemente el contenido relevante.\n",
    "\n",
    "Al comprender el propósito de estas clases, los desarrolladores y scrapers pueden apuntar con precisión a las secciones de interés dentro de la página y manipular o extraer la información de manera más efectiva.\n",
    "\n",
    "Este ejemplo ilustra cómo el HTML estructura el contenido y cómo se puede utilizar para organizar la información de manera que los usuarios y las herramientas de scraping puedan acceder fácilmente a ella.\n"
   ]
  },
  {
   "cell_type": "markdown",
   "metadata": {},
   "source": []
  }
 ],
 "metadata": {
  "kernelspec": {
   "display_name": "Python 3",
   "language": "python",
   "name": "python3"
  },
  "language_info": {
   "codemirror_mode": {
    "name": "ipython",
    "version": 3
   },
   "file_extension": ".py",
   "mimetype": "text/x-python",
   "name": "python",
   "nbconvert_exporter": "python",
   "pygments_lexer": "ipython3",
   "version": "3.10.4"
  }
 },
 "nbformat": 4,
 "nbformat_minor": 2
}
