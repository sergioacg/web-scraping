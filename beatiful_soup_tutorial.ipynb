{
 "cells": [
  {
   "cell_type": "markdown",
   "metadata": {},
   "source": [
    "# Tutorial de Web Scraping con BeautifulSoup\n"
   ]
  },
  {
   "cell_type": "markdown",
   "metadata": {},
   "source": [
    "Este tutorial tiene como objetivo enseñar los fundamentos de web scraping utilizando la biblioteca BeautifulSoup en Python. Aprenderemos a extraer datos de páginas web analizando el HTML y seleccionando los elementos específicos que necesitamos.\n"
   ]
  },
  {
   "cell_type": "markdown",
   "metadata": {},
   "source": [
    "## ¿Qué es BeautifulSoup?\n",
    "\n",
    "BeautifulSoup es una biblioteca de Python que facilita la tarea de realizar web scraping, es decir, extraer información de páginas web. Permite analizar documentos HTML y XML y extraer los datos que necesitamos de una manera fácil y rápida.\n"
   ]
  },
  {
   "cell_type": "markdown",
   "metadata": {},
   "source": [
    "## Instalación de BeautifulSoup\n",
    "\n",
    "Para utilizar BeautifulSoup, primero debemos instalarlo. Esto se puede hacer mediante pip, el gestor de paquetes de Python. Además, necesitaremos la biblioteca `requests` para realizar peticiones HTTP. Ejecute el siguiente comando en su terminal para instalar ambas bibliotecas:\n",
    "\n"
   ]
  },
  {
   "cell_type": "code",
   "execution_count": null,
   "metadata": {},
   "outputs": [],
   "source": [
    "%pip install beautifulsoup4 requests"
   ]
  },
  {
   "cell_type": "markdown",
   "metadata": {},
   "source": [
    "Importamos las bibliotecas en el encabezado"
   ]
  },
  {
   "cell_type": "code",
   "execution_count": null,
   "metadata": {},
   "outputs": [],
   "source": [
    "\n",
    "from bs4 import BeautifulSoup\n",
    "import requests\n"
   ]
  },
  {
   "cell_type": "markdown",
   "metadata": {},
   "source": [
    "## Haciendo una petición a la web\n",
    "\n",
    "Para extraer datos de una página web, primero necesitamos obtener el contenido HTML de la página. Utilizamos la biblioteca `requests` para hacer una petición HTTP y obtener este contenido.\n"
   ]
  },
  {
   "cell_type": "code",
   "execution_count": null,
   "metadata": {},
   "outputs": [],
   "source": [
    "url = \"https://bleach.fandom.com/es/wiki/\"\n",
    "respuesta = requests.get(url)\n",
    "contenido_html = respuesta.text\n",
    "#print(contenido_html)\n"
   ]
  },
  {
   "cell_type": "markdown",
   "metadata": {},
   "source": [
    "`respuesta.text` obtiene el contenido de la respuesta (en este caso, el código HTML de la página web) como un string (cadena de texto). Este contenido es lo que BeautifulSoup analizará para extraer datos."
   ]
  },
  {
   "cell_type": "markdown",
   "metadata": {},
   "source": [
    "## Parsear el contenido HTML con BeautifulSoup\n",
    "\n",
    "Una vez que tenemos el contenido HTML, podemos usar BeautifulSoup para analizar y estructurar este contenido, lo que facilita la extracción de información. De hecho, Parsear significa analizar y convertir una cadena de datos (en este caso, el código HTML de una página web) en una estructura de datos que el programa puede manejar y entender fácilmente.\n"
   ]
  },
  {
   "cell_type": "code",
   "execution_count": null,
   "metadata": {},
   "outputs": [],
   "source": [
    "soup = BeautifulSoup(contenido_html, 'html.parser')\n",
    "#print(soup)"
   ]
  },
  {
   "cell_type": "markdown",
   "metadata": {},
   "source": [
    "## Buscando elementos en el documento\n",
    "\n",
    "BeautifulSoup permite buscar elementos específicos dentro del documento HTML. Podemos buscar elementos por su etiqueta, atributos, contenido de texto, etc.\n"
   ]
  },
  {
   "cell_type": "code",
   "execution_count": null,
   "metadata": {},
   "outputs": [],
   "source": [
    "# Buscar el primer elemento 'h1'\n",
    "titulo = soup.find('h1')\n",
    "print(titulo.text)\n"
   ]
  },
  {
   "cell_type": "code",
   "execution_count": null,
   "metadata": {},
   "outputs": [],
   "source": [
    "# Buscar todos los elementos 'p'\n",
    "parrafos = soup.find_all('p')\n",
    "print(parrafos)"
   ]
  },
  {
   "cell_type": "code",
   "execution_count": null,
   "metadata": {},
   "outputs": [],
   "source": [
    "# imprimir el texto de cada parrafo\n",
    "for parrafo in parrafos:\n",
    "    print(parrafo.text)"
   ]
  },
  {
   "cell_type": "markdown",
   "metadata": {},
   "source": [
    "## Accediendo a los datos de los elementos\n",
    "\n",
    "Una vez que hemos seleccionado un elemento o un conjunto de elementos, podemos acceder a su contenido de texto, atributos y más.\n"
   ]
  },
  {
   "cell_type": "code",
   "execution_count": null,
   "metadata": {},
   "outputs": [],
   "source": [
    "# Obtener texto del título\n",
    "texto_titulo = titulo.text\n",
    "\n",
    "# Obtener el atributo href de un enlace\n",
    "enlace = soup.find('a')\n",
    "url_enlace = enlace['href']\n",
    "\n",
    "\n",
    "print(texto_titulo)\n",
    "print(url_enlace)\n"
   ]
  },
  {
   "cell_type": "markdown",
   "metadata": {},
   "source": [
    "## Navegación por el árbol de elementos\n",
    "\n",
    "BeautifulSoup también permite navegar por el árbol de elementos del documento, moviéndonos entre elementos padres, hijos, hermanos, etc.\n",
    "\n"
   ]
  },
  {
   "cell_type": "code",
   "execution_count": null,
   "metadata": {},
   "outputs": [],
   "source": [
    "# Obtener el elemento padre de 'titulo'\n",
    "padre = titulo.parent\n",
    "\n",
    "# Obtener el siguiente hermano de 'titulo'\n",
    "siguiente_hermano = titulo.find_next_sibling()\n",
    "\n",
    "print(padre)\n",
    "print(siguiente_hermano)\n"
   ]
  },
  {
   "cell_type": "markdown",
   "metadata": {},
   "source": [
    "### BeautifulSoup: Accediendo al Elemento Padre y al Siguiente Hermano\n",
    "\n",
    "#### Elemento Padre\n",
    "La función `.parent` en BeautifulSoup se usa para acceder al elemento padre (o contenedor) de un elemento específico en el árbol del documento HTML. Esto es útil cuando necesitas subir un nivel en la jerarquía del árbol HTML.\n",
    "\n",
    "Ejemplo:\n",
    "Si tenemos un elemento HTML identificado como `titulo`, al ejecutar `titulo.parent`, obtenemos el elemento HTML que contiene directamente a `titulo`, es decir, su elemento padre.\n",
    "\n",
    "#### Siguiente Hermano\n",
    "La función `.find_next_sibling()` se utiliza para encontrar el siguiente elemento en el mismo nivel de jerarquía que el elemento especificado, es decir, su \"hermano\" en términos de estructura del árbol HTML. Esto nos permite movernos horizontalmente en el árbol HTML para encontrar el próximo elemento al mismo nivel.\n",
    "\n",
    "Ejemplo:\n",
    "Al hacer `titulo.find_next_sibling()`, estamos obteniendo el elemento que está justo después de `titulo` al mismo nivel de jerarquía.\n",
    "\n",
    "#### Ejemplo Visual\n",
    "Considera el siguiente fragmento de HTML:\n",
    "\n",
    "```html\n",
    "<div>\n",
    "    <h1 id=\"titulo\">Título</h1>\n",
    "    <p>Parágrafo siguiente al título</p>\n",
    "</div>\n"
   ]
  },
  {
   "cell_type": "markdown",
   "metadata": {},
   "source": [
    "- El elemento `div` es el padre de `h1` (con id titulo).\n",
    "- El elemento `p` es el siguiente hermano del elemento `h1` (con id `titulo`)."
   ]
  },
  {
   "cell_type": "markdown",
   "metadata": {},
   "source": [
    "# Métodos de BeautifulSoup\n",
    "\n",
    "BeautifulSoup es una biblioteca en Python para analizar documentos HTML y XML. Aquí se describen algunos métodos clave utilizados en análisis web:\n",
    "\n",
    "https://beautiful-soup-4.readthedocs.io/\n",
    "\n",
    "\n",
    "\n",
    "- `find()`\n",
    "  - **Descripción:** Busca el primer elemento que coincide con los criterios especificados.\n",
    "  - **Uso:** Ideal para obtener un elemento específico cuando se sabe que solo hay uno en el documento o se necesita el primero de varios elementos similares.\n",
    "\n",
    "- `find_all()`\n",
    "  - **Descripción:** Busca todos los elementos que coinciden con los criterios especificados.\n",
    "  - **Uso:** Util para recopilar una lista de elementos que comparten la misma etiqueta o clase.\n",
    "\n",
    "- `find_next_sibling()`\n",
    "  - **Descripción:** Obtiene el siguiente elemento hermano (del mismo nivel) de un elemento dado.\n",
    "  - **Uso:** Útil para navegar a elementos adyacentes en la misma jerarquía de la estructura HTML.\n",
    "\n",
    "- `find_next()`\n",
    "  - **Descripción:** Encuentra el primer elemento que coincide con los criterios después del elemento actual.\n",
    "  - **Uso:** Ideal para encontrar el próximo elemento en el documento HTML, sin importar su posición en la jerarquía.\n",
    "\n",
    "- `find_all_next()`\n",
    "  - **Descripción:** Recupera todos los elementos que coinciden con los criterios después del elemento actual.\n",
    "  - **Uso:** Se usa para obtener todos los elementos que siguen a un elemento dado y que cumplen con los criterios especificados.\n",
    "\n",
    "- `find_previous()`\n",
    "  - **Descripción:** Este método busca el elemento anterior en el documento que coincide con los criterios especificados. Es útil para navegar hacia atrás en el árbol del documento HTML.\n",
    "  - **Uso:** Se utiliza para encontrar el elemento que precede inmediatamente a un elemento dado, según los criterios de búsqueda. Es especialmente útil en análisis detallados de la estructura HTML donde se necesita explorar elementos en dirección opuesta al flujo de lectura usual del documento.\n",
    "\n",
    "\n",
    "- `parent`\n",
    "  - **Descripción:** Propiedad que devuelve el elemento padre del elemento actual.\n",
    "  - **Uso:** Permite el acceso al elemento contenedor o superior de un elemento dado en el árbol DOM.\n",
    "\n",
    "- `text`\n",
    "  - **Descripción:** Extrae todo el texto de un elemento y sus descendientes.\n",
    "  - **Uso:** Se emplea para obtener el contenido textual limpio de un elemento HTML.\n",
    "\n",
    "- `strip()`\n",
    "  - **Descripción:** Elimina los espacios en blanco al principio y al final de un string.\n",
    "  - **Uso:** Utilizado en combinación con `text` para limpiar el texto extraído de espacios extra o saltos de línea.\n",
    "\n",
    "\n",
    "Estos métodos son esenciales para la extracción efectiva y la navegación a través de documentos HTML, facilitando la obtención de datos específicos en el proceso de web scraping.\n"
   ]
  },
  {
   "cell_type": "markdown",
   "metadata": {},
   "source": []
  }
 ],
 "metadata": {
  "kernelspec": {
   "display_name": "Python 3",
   "language": "python",
   "name": "python3"
  },
  "language_info": {
   "codemirror_mode": {
    "name": "ipython",
    "version": 3
   },
   "file_extension": ".py",
   "mimetype": "text/x-python",
   "name": "python",
   "nbconvert_exporter": "python",
   "pygments_lexer": "ipython3",
   "version": "3.10.7"
  }
 },
 "nbformat": 4,
 "nbformat_minor": 2
}
